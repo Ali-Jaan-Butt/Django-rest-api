{
 "cells": [
  {
   "cell_type": "code",
   "execution_count": 2,
   "id": "b8018f4f-321d-4b75-bcb8-82c2b4da964f",
   "metadata": {},
   "outputs": [],
   "source": [
    "import pymongo\n",
    "import smtplib\n",
    "from email.mime.multipart import MIMEMultipart\n",
    "from email.mime.text import MIMEText\n",
    "import random\n",
    "import string\n",
    "import emails\n",
    "from fastapi import FastAPI\n",
    "import requests\n",
    "import json\n",
    "from sentence_transformers import SentenceTransformer, util"
   ]
  },
  {
   "cell_type": "code",
   "execution_count": 4,
   "id": "6a2fe822-b6ed-4018-a6aa-b65cd5ac6ebe",
   "metadata": {},
   "outputs": [],
   "source": [
    "model = SentenceTransformer('paraphrase-MiniLM-L6-v2')"
   ]
  },
  {
   "cell_type": "code",
   "execution_count": 5,
   "id": "c579fe5e-0e31-41b7-b7b7-d9b0bf2eeea7",
   "metadata": {},
   "outputs": [],
   "source": [
    "li = [1, 2, 3, 4, 5]"
   ]
  },
  {
   "cell_type": "code",
   "execution_count": 7,
   "id": "08c102d9-ec38-4086-8bce-e009b18995ac",
   "metadata": {},
   "outputs": [
    {
     "data": {
      "text/plain": [
       "5"
      ]
     },
     "execution_count": 7,
     "metadata": {},
     "output_type": "execute_result"
    }
   ],
   "source": [
    "max(li)"
   ]
  },
  {
   "cell_type": "code",
   "execution_count": 8,
   "id": "8639f433-dfa2-4bd3-8cc8-93ff3933d216",
   "metadata": {},
   "outputs": [
    {
     "name": "stdout",
     "output_type": "stream",
     "text": [
      "The maximum value is 9 at index 3\n"
     ]
    }
   ],
   "source": [
    "# Example list\n",
    "my_list = [1, 3, 7, 9, 2, 9]\n",
    "\n",
    "# Find the maximum value\n",
    "max_value = max(my_list)\n",
    "\n",
    "# Find the index of the maximum value\n",
    "max_index = my_list.index(max_value)\n",
    "\n",
    "print(f\"The maximum value is {max_value} at index {max_index}\")"
   ]
  },
  {
   "cell_type": "code",
   "execution_count": 9,
   "id": "8f2296d5-519a-4f30-b76f-5f35ec37984b",
   "metadata": {},
   "outputs": [
    {
     "name": "stdout",
     "output_type": "stream",
     "text": [
      "The maximum value is 9 at indices [3, 5]\n"
     ]
    }
   ],
   "source": [
    "# Example list\n",
    "my_list = [1, 3, 7, 9, 2, 9]\n",
    "\n",
    "# Find the maximum value\n",
    "max_value = max(my_list)\n",
    "\n",
    "# Find all indices of the maximum value\n",
    "max_indices = [index for index, value in enumerate(my_list) if value == max_value]\n",
    "\n",
    "print(f\"The maximum value is {max_value} at indices {max_indices}\")"
   ]
  },
  {
   "cell_type": "code",
   "execution_count": 10,
   "id": "2b1e7064-b6c0-493c-8c22-5ea0cada68dd",
   "metadata": {},
   "outputs": [],
   "source": [
    "def find_top_n_max_indices(lst, n):\n",
    "    # Enumerate the list to keep track of indices\n",
    "    indexed_lst = list(enumerate(lst))\n",
    "    \n",
    "    # Sort the list based on the values in descending order\n",
    "    sorted_lst = sorted(indexed_lst, key=lambda x: x[1], reverse=True)\n",
    "    \n",
    "    # Get the top n max values with their original indices\n",
    "    top_n = sorted_lst[:n]\n",
    "    \n",
    "    # Separate the values and their indices\n",
    "    top_n_values = [item[1] for item in top_n]\n",
    "    top_n_indices = [item[0] for item in top_n]\n",
    "    \n",
    "    return top_n_values, top_n_indices"
   ]
  },
  {
   "cell_type": "code",
   "execution_count": 11,
   "id": "f630794d-59cf-4864-b3f7-6d2af6568988",
   "metadata": {},
   "outputs": [
    {
     "name": "stdout",
     "output_type": "stream",
     "text": [
      "The top 3 maximum values are [9, 9, 7] at indices [3, 5, 2]\n"
     ]
    }
   ],
   "source": [
    "my_list = [1, 3, 7, 9, 2, 9, 4]\n",
    "\n",
    "# Find top 3 max values and indices\n",
    "top_values, top_indices = find_top_n_max_indices(my_list, 3)\n",
    "\n",
    "print(f\"The top 3 maximum values are {top_values} at indices {top_indices}\")"
   ]
  },
  {
   "cell_type": "code",
   "execution_count": 18,
   "id": "aad3ccd7-681e-481b-a539-8625c7775ded",
   "metadata": {},
   "outputs": [
    {
     "name": "stdout",
     "output_type": "stream",
     "text": [
      "{'_id': '6670b966421d357e48b26604', 'Title': 'App Developer', 'Company': 'Apple', 'Location': 'USA', 'Duration': '5 months', 'Description': 'An intern should have knowledge about swift and its packages. and his/her should be expert in UI/UX creation for an attractive design.'}\n"
     ]
    },
    {
     "ename": "IndexError",
     "evalue": "list index out of range",
     "output_type": "error",
     "traceback": [
      "\u001b[0;31m---------------------------------------------------------------------------\u001b[0m",
      "\u001b[0;31mIndexError\u001b[0m                                Traceback (most recent call last)",
      "Cell \u001b[0;32mIn[18], line 2\u001b[0m\n\u001b[1;32m      1\u001b[0m \u001b[38;5;28;01mfor\u001b[39;00m i \u001b[38;5;129;01min\u001b[39;00m top_indices:\n\u001b[0;32m----> 2\u001b[0m     \u001b[38;5;28mprint\u001b[39m(data[i])\n",
      "\u001b[0;31mIndexError\u001b[0m: list index out of range"
     ]
    }
   ],
   "source": [
    "for i in top_indices:\n",
    "    print(data[i])"
   ]
  },
  {
   "cell_type": "code",
   "execution_count": 13,
   "id": "6c7207ab-66fe-4f03-a970-111312fd4e68",
   "metadata": {},
   "outputs": [],
   "source": [
    "res = requests.get('http://127.0.0.1:8000/api/items/')"
   ]
  },
  {
   "cell_type": "code",
   "execution_count": 14,
   "id": "e44e9e70-1942-426d-831d-7b4ddb9a107a",
   "metadata": {},
   "outputs": [],
   "source": [
    "data = res.json()"
   ]
  },
  {
   "cell_type": "code",
   "execution_count": 17,
   "id": "0ea018b5-a628-4f78-946f-1193fafecb74",
   "metadata": {},
   "outputs": [
    {
     "name": "stdout",
     "output_type": "stream",
     "text": [
      "Data Scientist\n",
      "Web Developer\n",
      "Cyber Expert\n",
      "App Developer\n"
     ]
    }
   ],
   "source": [
    "for i in data:\n",
    "    print(i['Title'])"
   ]
  },
  {
   "cell_type": "code",
   "execution_count": 21,
   "id": "58a0a1a7-03b7-4942-928c-e7dccb102644",
   "metadata": {},
   "outputs": [],
   "source": [
    "dict_data = {index: value for index, value in enumerate(data)}"
   ]
  },
  {
   "cell_type": "code",
   "execution_count": 25,
   "id": "10850e42-979b-46cf-986e-9f56da05f5e4",
   "metadata": {},
   "outputs": [
    {
     "name": "stdout",
     "output_type": "stream",
     "text": [
      "0\n",
      "1\n"
     ]
    }
   ],
   "source": [
    "for items in dict_data:\n",
    "    print(items)"
   ]
  },
  {
   "cell_type": "code",
   "execution_count": 30,
   "id": "2eb3b328-8072-403e-a9c8-4cf6ee5bd1cf",
   "metadata": {},
   "outputs": [
    {
     "data": {
      "text/plain": [
       "dict_keys([0, 1])"
      ]
     },
     "execution_count": 30,
     "metadata": {},
     "output_type": "execute_result"
    }
   ],
   "source": [
    "dict_data.keys()"
   ]
  },
  {
   "cell_type": "code",
   "execution_count": 14,
   "id": "0e7705a3-a355-4119-80b3-b0bd4f3217fb",
   "metadata": {},
   "outputs": [
    {
     "name": "stdout",
     "output_type": "stream",
     "text": [
      "Data Scientist\n",
      "Web Developer\n"
     ]
    }
   ],
   "source": [
    "for i in data:\n",
    "    print(i['Title'])"
   ]
  },
  {
   "cell_type": "code",
   "execution_count": 74,
   "id": "4dbaf4a8-1623-4157-b6e2-88c693e86931",
   "metadata": {},
   "outputs": [],
   "source": [
    "client = pymongo.MongoClient()\n",
    "database_name = \"web_project\"\n",
    "db = client[database_name]\n",
    "collection_name = \"signup_data\"\n",
    "collection = db[collection_name]\n",
    "cursor = collection.find()"
   ]
  },
  {
   "cell_type": "code",
   "execution_count": 25,
   "id": "97d5fb60-0868-4a14-9383-72b2a835bc85",
   "metadata": {
    "scrolled": true
   },
   "outputs": [],
   "source": [
    "with smtplib.SMTP('smtp.gmail.com', 587) as smtp:\n",
    "    smtp.ehlo()\n",
    "    smtp.starttls()\n",
    "    smtp.ehlo()\n",
    "    smtp.login('interns.hub510@gmail.com', 'frer bnho uocd pztb')\n",
    "    subject = 'Verification'\n",
    "    body = 'Code is: 123456'\n",
    "    msg = f'Subject: {subject}\\n\\n{body}'\n",
    "    smtp.sendmail('interns.hub510@gmail.com', 'm.alijaan420@gmail.com', msg)"
   ]
  }
 ],
 "metadata": {
  "kernelspec": {
   "display_name": "Python 3 (ipykernel)",
   "language": "python",
   "name": "python3"
  },
  "language_info": {
   "codemirror_mode": {
    "name": "ipython",
    "version": 3
   },
   "file_extension": ".py",
   "mimetype": "text/x-python",
   "name": "python",
   "nbconvert_exporter": "python",
   "pygments_lexer": "ipython3",
   "version": "3.11.3"
  }
 },
 "nbformat": 4,
 "nbformat_minor": 5
}
