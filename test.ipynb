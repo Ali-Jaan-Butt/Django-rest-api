{
 "cells": [
  {
   "cell_type": "code",
   "execution_count": 7,
   "id": "b8018f4f-321d-4b75-bcb8-82c2b4da964f",
   "metadata": {},
   "outputs": [],
   "source": [
    "import pymongo\n",
    "import smtplib\n",
    "from email.mime.multipart import MIMEMultipart\n",
    "from email.mime.text import MIMEText\n",
    "import random\n",
    "import string\n",
    "import emails\n",
    "from fastapi import FastAPI\n",
    "import requests\n",
    "import json"
   ]
  },
  {
   "cell_type": "code",
   "execution_count": 4,
   "id": "6c7207ab-66fe-4f03-a970-111312fd4e68",
   "metadata": {},
   "outputs": [],
   "source": [
    "res = requests.get('http://127.0.0.1:8000/api/items/')"
   ]
  },
  {
   "cell_type": "code",
   "execution_count": 10,
   "id": "e44e9e70-1942-426d-831d-7b4ddb9a107a",
   "metadata": {},
   "outputs": [],
   "source": [
    "data = res.json()"
   ]
  },
  {
   "cell_type": "code",
   "execution_count": 21,
   "id": "58a0a1a7-03b7-4942-928c-e7dccb102644",
   "metadata": {},
   "outputs": [],
   "source": [
    "dict_data = {index: value for index, value in enumerate(data)}"
   ]
  },
  {
   "cell_type": "code",
   "execution_count": 25,
   "id": "10850e42-979b-46cf-986e-9f56da05f5e4",
   "metadata": {},
   "outputs": [
    {
     "name": "stdout",
     "output_type": "stream",
     "text": [
      "0\n",
      "1\n"
     ]
    }
   ],
   "source": [
    "for items in dict_data:\n",
    "    print(items)"
   ]
  },
  {
   "cell_type": "code",
   "execution_count": 30,
   "id": "2eb3b328-8072-403e-a9c8-4cf6ee5bd1cf",
   "metadata": {},
   "outputs": [
    {
     "data": {
      "text/plain": [
       "dict_keys([0, 1])"
      ]
     },
     "execution_count": 30,
     "metadata": {},
     "output_type": "execute_result"
    }
   ],
   "source": [
    "dict_data.keys()"
   ]
  },
  {
   "cell_type": "code",
   "execution_count": 14,
   "id": "0e7705a3-a355-4119-80b3-b0bd4f3217fb",
   "metadata": {},
   "outputs": [
    {
     "name": "stdout",
     "output_type": "stream",
     "text": [
      "Data Scientist\n",
      "Web Developer\n"
     ]
    }
   ],
   "source": [
    "for i in data:\n",
    "    print(i['Title'])"
   ]
  },
  {
   "cell_type": "code",
   "execution_count": 74,
   "id": "4dbaf4a8-1623-4157-b6e2-88c693e86931",
   "metadata": {},
   "outputs": [],
   "source": [
    "client = pymongo.MongoClient()\n",
    "database_name = \"web_project\"\n",
    "db = client[database_name]\n",
    "collection_name = \"signup_data\"\n",
    "collection = db[collection_name]\n",
    "cursor = collection.find()"
   ]
  },
  {
   "cell_type": "code",
   "execution_count": 25,
   "id": "97d5fb60-0868-4a14-9383-72b2a835bc85",
   "metadata": {
    "scrolled": true
   },
   "outputs": [],
   "source": [
    "with smtplib.SMTP('smtp.gmail.com', 587) as smtp:\n",
    "    smtp.ehlo()\n",
    "    smtp.starttls()\n",
    "    smtp.ehlo()\n",
    "    smtp.login('interns.hub510@gmail.com', 'frer bnho uocd pztb')\n",
    "    subject = 'Verification'\n",
    "    body = 'Code is: 123456'\n",
    "    msg = f'Subject: {subject}\\n\\n{body}'\n",
    "    smtp.sendmail('interns.hub510@gmail.com', 'm.alijaan420@gmail.com', msg)"
   ]
  }
 ],
 "metadata": {
  "kernelspec": {
   "display_name": "Python 3 (ipykernel)",
   "language": "python",
   "name": "python3"
  },
  "language_info": {
   "codemirror_mode": {
    "name": "ipython",
    "version": 3
   },
   "file_extension": ".py",
   "mimetype": "text/x-python",
   "name": "python",
   "nbconvert_exporter": "python",
   "pygments_lexer": "ipython3",
   "version": "3.11.3"
  }
 },
 "nbformat": 4,
 "nbformat_minor": 5
}
