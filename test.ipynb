{
 "cells": [
  {
   "cell_type": "code",
   "execution_count": 102,
   "id": "b8018f4f-321d-4b75-bcb8-82c2b4da964f",
   "metadata": {},
   "outputs": [],
   "source": [
    "import pymongo\n",
    "import smtplib\n",
    "from email.mime.multipart import MIMEMultipart\n",
    "from email.mime.text import MIMEText\n",
    "import random\n",
    "import string\n",
    "import emails\n",
    "from fastapi import FastAPI\n",
    "import requests"
   ]
  },
  {
   "cell_type": "code",
   "execution_count": 106,
   "id": "6c7207ab-66fe-4f03-a970-111312fd4e68",
   "metadata": {},
   "outputs": [],
   "source": [
    "res = requests.get('http://127.0.0.1:8000/api/items/')"
   ]
  },
  {
   "cell_type": "code",
   "execution_count": 108,
   "id": "0e7705a3-a355-4119-80b3-b0bd4f3217fb",
   "metadata": {},
   "outputs": [
    {
     "data": {
      "text/plain": [
       "'[{\"_id\": \"666ef415e54c49403f35e4b6\", \"Title\": \"Data Scientist\", \"Company\": \"Data boomers\", \"Location\": \"Gujranwala\", \"Duration\": \"3 months\", \"Description\": \"An intern should have knowledge about python, machine learning, deep learning etc. Should have done some projects in data science.\"}, {\"_id\": \"666f09e113b74313672d9ded\", \"Title\": \"Web Developer\", \"Company\": \"Web Tech\", \"Location\": \"Lahore\", \"Duration\": \"2 months\", \"Description\": \"Expertise in Html, CSS and JavaScript. Have much knowledge of react or angular.\"}, {\"_id\": \"666f3427d3e3e15bdeed6677\", \"Title\": \"Web Developer\", \"Company\": \"Web Tech\", \"Location\": \"Lahore\", \"Duration\": \"2 months\", \"Description\": \"Expertise in Html, CSS and JavaScript. Have much knowledge of react or angular.\"}, {\"_id\": \"666f345ed3e3e15bdeed6679\", \"Title\": \"Web Developer\", \"Company\": \"Web Tech\", \"Location\": \"Lahore\", \"Duration\": \"2 months\", \"Description\": \"Expertise in Html, CSS and JavaScript. Have much knowledge of react or angular.\"}, {\"_id\": \"666f348f3c60e3c9ccdf3063\", \"Title\": \"Web Developer\", \"Company\": \"Web Tech\", \"Location\": \"Lahore\", \"Duration\": \"2 months\", \"Description\": \"Expertise in Html, CSS and JavaScript. Have much knowledge of react or angular.\"}, {\"_id\": \"666f34a03c60e3c9ccdf3065\", \"Title\": \"Web Developer\", \"Company\": \"Web Tech\", \"Location\": \"Lahore\", \"Duration\": \"2 months\", \"Description\": \"Expertise in Html, CSS and JavaScript. Have much knowledge of react or angular.\"}, {\"_id\": \"666f403cf278b70c22a54458\", \"Title\": \"Web Developer\", \"Company\": \"Web Tech\", \"Location\": \"Lahore\", \"Duration\": \"2 months\", \"Description\": \"Expertise in Html, CSS and JavaScript. Have much knowledge of react or angular.\"}, {\"_id\": \"666f4058f278b70c22a5445a\", \"Title\": \"Web Developer\", \"Company\": \"Web Tech\", \"Location\": \"Lahore\", \"Duration\": \"2 months\", \"Description\": \"Expertise in Html, CSS and JavaScript. Have much knowledge of react or angular.\"}, {\"_id\": \"666f4e75147967fd50203231\", \"Title\": \"Web Developer\", \"Company\": \"Web Tech\", \"Location\": \"Lahore\", \"Duration\": \"2 months\", \"Description\": \"Expertise in Html, CSS and JavaScript. Have much knowledge of react or angular.\"}, {\"_id\": \"666f4e7a147967fd50203233\", \"Title\": \"Data Scientist\", \"Company\": \"Data boomers\", \"Location\": \"Gujranwala\", \"Duration\": \"3 months\", \"Description\": \"An intern should have knowledge about python, machine learning, deep learning etc. Should have done some projects in data science.\"}, {\"_id\": \"666f4ebe147967fd50203235\", \"Title\": \"Cyber Security\", \"Company\": \"Cyber punk\", \"Location\": \"Mango\", \"Duration\": \"3 months\", \"Description\": \"Ja nai likhni description kia kr le ga.\"}]'"
      ]
     },
     "execution_count": 108,
     "metadata": {},
     "output_type": "execute_result"
    }
   ],
   "source": [
    "res.text"
   ]
  },
  {
   "cell_type": "code",
   "execution_count": 103,
   "id": "45dad37f-9906-4cbd-90a0-2e8c4bdf71ba",
   "metadata": {},
   "outputs": [],
   "source": [
    "app = FastAPI()"
   ]
  },
  {
   "cell_type": "code",
   "execution_count": 104,
   "id": "f919f744-0f7f-4a21-a0cf-fb27ecdcc117",
   "metadata": {},
   "outputs": [],
   "source": [
    "mydata = [{\n",
    "    'name':'Ali'\n",
    "}]"
   ]
  },
  {
   "cell_type": "code",
   "execution_count": 105,
   "id": "fa1b2520-9a39-447f-950c-252ce7bc3a13",
   "metadata": {},
   "outputs": [],
   "source": [
    "@app.get('/api-data')\n",
    "def user_list():\n",
    "    return {'data': mydata}"
   ]
  },
  {
   "cell_type": "code",
   "execution_count": 96,
   "id": "04b02b04-05e8-4e05-8877-4bd3a593a0d5",
   "metadata": {},
   "outputs": [
    {
     "ename": "TypeError",
     "evalue": "{'one': {'name': 'Ali'}} is not a callable object",
     "output_type": "error",
     "traceback": [
      "\u001b[0;31m---------------------------------------------------------------------------\u001b[0m",
      "\u001b[0;31mTypeError\u001b[0m                                 Traceback (most recent call last)",
      "Cell \u001b[0;32mIn[96], line 1\u001b[0m\n\u001b[0;32m----> 1\u001b[0m app\u001b[38;5;241m.\u001b[39madd_api_route(\u001b[38;5;124m'\u001b[39m\u001b[38;5;124mhttps://api\u001b[39m\u001b[38;5;124m'\u001b[39m, mydata)\n",
      "File \u001b[0;32m~/anaconda3/lib/python3.11/site-packages/fastapi/applications.py:1088\u001b[0m, in \u001b[0;36mFastAPI.add_api_route\u001b[0;34m(self, path, endpoint, response_model, status_code, tags, dependencies, summary, description, response_description, responses, deprecated, methods, operation_id, response_model_include, response_model_exclude, response_model_by_alias, response_model_exclude_unset, response_model_exclude_defaults, response_model_exclude_none, include_in_schema, response_class, name, openapi_extra, generate_unique_id_function)\u001b[0m\n\u001b[1;32m   1056\u001b[0m \u001b[38;5;28;01mdef\u001b[39;00m \u001b[38;5;21madd_api_route\u001b[39m(\n\u001b[1;32m   1057\u001b[0m     \u001b[38;5;28mself\u001b[39m,\n\u001b[1;32m   1058\u001b[0m     path: \u001b[38;5;28mstr\u001b[39m,\n\u001b[0;32m   (...)\u001b[0m\n\u001b[1;32m   1086\u001b[0m     ),\n\u001b[1;32m   1087\u001b[0m ) \u001b[38;5;241m-\u001b[39m\u001b[38;5;241m>\u001b[39m \u001b[38;5;28;01mNone\u001b[39;00m:\n\u001b[0;32m-> 1088\u001b[0m     \u001b[38;5;28mself\u001b[39m\u001b[38;5;241m.\u001b[39mrouter\u001b[38;5;241m.\u001b[39madd_api_route(\n\u001b[1;32m   1089\u001b[0m         path,\n\u001b[1;32m   1090\u001b[0m         endpoint\u001b[38;5;241m=\u001b[39mendpoint,\n\u001b[1;32m   1091\u001b[0m         response_model\u001b[38;5;241m=\u001b[39mresponse_model,\n\u001b[1;32m   1092\u001b[0m         status_code\u001b[38;5;241m=\u001b[39mstatus_code,\n\u001b[1;32m   1093\u001b[0m         tags\u001b[38;5;241m=\u001b[39mtags,\n\u001b[1;32m   1094\u001b[0m         dependencies\u001b[38;5;241m=\u001b[39mdependencies,\n\u001b[1;32m   1095\u001b[0m         summary\u001b[38;5;241m=\u001b[39msummary,\n\u001b[1;32m   1096\u001b[0m         description\u001b[38;5;241m=\u001b[39mdescription,\n\u001b[1;32m   1097\u001b[0m         response_description\u001b[38;5;241m=\u001b[39mresponse_description,\n\u001b[1;32m   1098\u001b[0m         responses\u001b[38;5;241m=\u001b[39mresponses,\n\u001b[1;32m   1099\u001b[0m         deprecated\u001b[38;5;241m=\u001b[39mdeprecated,\n\u001b[1;32m   1100\u001b[0m         methods\u001b[38;5;241m=\u001b[39mmethods,\n\u001b[1;32m   1101\u001b[0m         operation_id\u001b[38;5;241m=\u001b[39moperation_id,\n\u001b[1;32m   1102\u001b[0m         response_model_include\u001b[38;5;241m=\u001b[39mresponse_model_include,\n\u001b[1;32m   1103\u001b[0m         response_model_exclude\u001b[38;5;241m=\u001b[39mresponse_model_exclude,\n\u001b[1;32m   1104\u001b[0m         response_model_by_alias\u001b[38;5;241m=\u001b[39mresponse_model_by_alias,\n\u001b[1;32m   1105\u001b[0m         response_model_exclude_unset\u001b[38;5;241m=\u001b[39mresponse_model_exclude_unset,\n\u001b[1;32m   1106\u001b[0m         response_model_exclude_defaults\u001b[38;5;241m=\u001b[39mresponse_model_exclude_defaults,\n\u001b[1;32m   1107\u001b[0m         response_model_exclude_none\u001b[38;5;241m=\u001b[39mresponse_model_exclude_none,\n\u001b[1;32m   1108\u001b[0m         include_in_schema\u001b[38;5;241m=\u001b[39minclude_in_schema,\n\u001b[1;32m   1109\u001b[0m         response_class\u001b[38;5;241m=\u001b[39mresponse_class,\n\u001b[1;32m   1110\u001b[0m         name\u001b[38;5;241m=\u001b[39mname,\n\u001b[1;32m   1111\u001b[0m         openapi_extra\u001b[38;5;241m=\u001b[39mopenapi_extra,\n\u001b[1;32m   1112\u001b[0m         generate_unique_id_function\u001b[38;5;241m=\u001b[39mgenerate_unique_id_function,\n\u001b[1;32m   1113\u001b[0m     )\n",
      "File \u001b[0;32m~/anaconda3/lib/python3.11/site-packages/fastapi/routing.py:883\u001b[0m, in \u001b[0;36mAPIRouter.add_api_route\u001b[0;34m(self, path, endpoint, response_model, status_code, tags, dependencies, summary, description, response_description, responses, deprecated, methods, operation_id, response_model_include, response_model_exclude, response_model_by_alias, response_model_exclude_unset, response_model_exclude_defaults, response_model_exclude_none, include_in_schema, response_class, name, route_class_override, callbacks, openapi_extra, generate_unique_id_function)\u001b[0m\n\u001b[1;32m    879\u001b[0m     current_callbacks\u001b[38;5;241m.\u001b[39mextend(callbacks)\n\u001b[1;32m    880\u001b[0m current_generate_unique_id \u001b[38;5;241m=\u001b[39m get_value_or_default(\n\u001b[1;32m    881\u001b[0m     generate_unique_id_function, \u001b[38;5;28mself\u001b[39m\u001b[38;5;241m.\u001b[39mgenerate_unique_id_function\n\u001b[1;32m    882\u001b[0m )\n\u001b[0;32m--> 883\u001b[0m route \u001b[38;5;241m=\u001b[39m route_class(\n\u001b[1;32m    884\u001b[0m     \u001b[38;5;28mself\u001b[39m\u001b[38;5;241m.\u001b[39mprefix \u001b[38;5;241m+\u001b[39m path,\n\u001b[1;32m    885\u001b[0m     endpoint\u001b[38;5;241m=\u001b[39mendpoint,\n\u001b[1;32m    886\u001b[0m     response_model\u001b[38;5;241m=\u001b[39mresponse_model,\n\u001b[1;32m    887\u001b[0m     status_code\u001b[38;5;241m=\u001b[39mstatus_code,\n\u001b[1;32m    888\u001b[0m     tags\u001b[38;5;241m=\u001b[39mcurrent_tags,\n\u001b[1;32m    889\u001b[0m     dependencies\u001b[38;5;241m=\u001b[39mcurrent_dependencies,\n\u001b[1;32m    890\u001b[0m     summary\u001b[38;5;241m=\u001b[39msummary,\n\u001b[1;32m    891\u001b[0m     description\u001b[38;5;241m=\u001b[39mdescription,\n\u001b[1;32m    892\u001b[0m     response_description\u001b[38;5;241m=\u001b[39mresponse_description,\n\u001b[1;32m    893\u001b[0m     responses\u001b[38;5;241m=\u001b[39mcombined_responses,\n\u001b[1;32m    894\u001b[0m     deprecated\u001b[38;5;241m=\u001b[39mdeprecated \u001b[38;5;129;01mor\u001b[39;00m \u001b[38;5;28mself\u001b[39m\u001b[38;5;241m.\u001b[39mdeprecated,\n\u001b[1;32m    895\u001b[0m     methods\u001b[38;5;241m=\u001b[39mmethods,\n\u001b[1;32m    896\u001b[0m     operation_id\u001b[38;5;241m=\u001b[39moperation_id,\n\u001b[1;32m    897\u001b[0m     response_model_include\u001b[38;5;241m=\u001b[39mresponse_model_include,\n\u001b[1;32m    898\u001b[0m     response_model_exclude\u001b[38;5;241m=\u001b[39mresponse_model_exclude,\n\u001b[1;32m    899\u001b[0m     response_model_by_alias\u001b[38;5;241m=\u001b[39mresponse_model_by_alias,\n\u001b[1;32m    900\u001b[0m     response_model_exclude_unset\u001b[38;5;241m=\u001b[39mresponse_model_exclude_unset,\n\u001b[1;32m    901\u001b[0m     response_model_exclude_defaults\u001b[38;5;241m=\u001b[39mresponse_model_exclude_defaults,\n\u001b[1;32m    902\u001b[0m     response_model_exclude_none\u001b[38;5;241m=\u001b[39mresponse_model_exclude_none,\n\u001b[1;32m    903\u001b[0m     include_in_schema\u001b[38;5;241m=\u001b[39minclude_in_schema \u001b[38;5;129;01mand\u001b[39;00m \u001b[38;5;28mself\u001b[39m\u001b[38;5;241m.\u001b[39minclude_in_schema,\n\u001b[1;32m    904\u001b[0m     response_class\u001b[38;5;241m=\u001b[39mcurrent_response_class,\n\u001b[1;32m    905\u001b[0m     name\u001b[38;5;241m=\u001b[39mname,\n\u001b[1;32m    906\u001b[0m     dependency_overrides_provider\u001b[38;5;241m=\u001b[39m\u001b[38;5;28mself\u001b[39m\u001b[38;5;241m.\u001b[39mdependency_overrides_provider,\n\u001b[1;32m    907\u001b[0m     callbacks\u001b[38;5;241m=\u001b[39mcurrent_callbacks,\n\u001b[1;32m    908\u001b[0m     openapi_extra\u001b[38;5;241m=\u001b[39mopenapi_extra,\n\u001b[1;32m    909\u001b[0m     generate_unique_id_function\u001b[38;5;241m=\u001b[39mcurrent_generate_unique_id,\n\u001b[1;32m    910\u001b[0m )\n\u001b[1;32m    911\u001b[0m \u001b[38;5;28mself\u001b[39m\u001b[38;5;241m.\u001b[39mroutes\u001b[38;5;241m.\u001b[39mappend(route)\n",
      "File \u001b[0;32m~/anaconda3/lib/python3.11/site-packages/fastapi/routing.py:427\u001b[0m, in \u001b[0;36mAPIRoute.__init__\u001b[0;34m(self, path, endpoint, response_model, status_code, tags, dependencies, summary, description, response_description, responses, deprecated, name, methods, operation_id, response_model_include, response_model_exclude, response_model_by_alias, response_model_exclude_unset, response_model_exclude_defaults, response_model_exclude_none, include_in_schema, response_class, dependency_overrides_provider, callbacks, openapi_extra, generate_unique_id_function)\u001b[0m\n\u001b[1;32m    425\u001b[0m \u001b[38;5;28mself\u001b[39m\u001b[38;5;241m.\u001b[39mendpoint \u001b[38;5;241m=\u001b[39m endpoint\n\u001b[1;32m    426\u001b[0m \u001b[38;5;28;01mif\u001b[39;00m \u001b[38;5;28misinstance\u001b[39m(response_model, DefaultPlaceholder):\n\u001b[0;32m--> 427\u001b[0m     return_annotation \u001b[38;5;241m=\u001b[39m get_typed_return_annotation(endpoint)\n\u001b[1;32m    428\u001b[0m     \u001b[38;5;28;01mif\u001b[39;00m lenient_issubclass(return_annotation, Response):\n\u001b[1;32m    429\u001b[0m         response_model \u001b[38;5;241m=\u001b[39m \u001b[38;5;28;01mNone\u001b[39;00m\n",
      "File \u001b[0;32m~/anaconda3/lib/python3.11/site-packages/fastapi/dependencies/utils.py:231\u001b[0m, in \u001b[0;36mget_typed_return_annotation\u001b[0;34m(call)\u001b[0m\n\u001b[1;32m    230\u001b[0m \u001b[38;5;28;01mdef\u001b[39;00m \u001b[38;5;21mget_typed_return_annotation\u001b[39m(call: Callable[\u001b[38;5;241m.\u001b[39m\u001b[38;5;241m.\u001b[39m\u001b[38;5;241m.\u001b[39m, Any]) \u001b[38;5;241m-\u001b[39m\u001b[38;5;241m>\u001b[39m Any:\n\u001b[0;32m--> 231\u001b[0m     signature \u001b[38;5;241m=\u001b[39m inspect\u001b[38;5;241m.\u001b[39msignature(call)\n\u001b[1;32m    232\u001b[0m     annotation \u001b[38;5;241m=\u001b[39m signature\u001b[38;5;241m.\u001b[39mreturn_annotation\n\u001b[1;32m    234\u001b[0m     \u001b[38;5;28;01mif\u001b[39;00m annotation \u001b[38;5;129;01mis\u001b[39;00m inspect\u001b[38;5;241m.\u001b[39mSignature\u001b[38;5;241m.\u001b[39mempty:\n",
      "File \u001b[0;32m~/anaconda3/lib/python3.11/inspect.py:3279\u001b[0m, in \u001b[0;36msignature\u001b[0;34m(obj, follow_wrapped, globals, locals, eval_str)\u001b[0m\n\u001b[1;32m   3277\u001b[0m \u001b[38;5;28;01mdef\u001b[39;00m \u001b[38;5;21msignature\u001b[39m(obj, \u001b[38;5;241m*\u001b[39m, follow_wrapped\u001b[38;5;241m=\u001b[39m\u001b[38;5;28;01mTrue\u001b[39;00m, \u001b[38;5;28mglobals\u001b[39m\u001b[38;5;241m=\u001b[39m\u001b[38;5;28;01mNone\u001b[39;00m, \u001b[38;5;28mlocals\u001b[39m\u001b[38;5;241m=\u001b[39m\u001b[38;5;28;01mNone\u001b[39;00m, eval_str\u001b[38;5;241m=\u001b[39m\u001b[38;5;28;01mFalse\u001b[39;00m):\n\u001b[1;32m   3278\u001b[0m \u001b[38;5;250m    \u001b[39m\u001b[38;5;124;03m\"\"\"Get a signature object for the passed callable.\"\"\"\u001b[39;00m\n\u001b[0;32m-> 3279\u001b[0m     \u001b[38;5;28;01mreturn\u001b[39;00m Signature\u001b[38;5;241m.\u001b[39mfrom_callable(obj, follow_wrapped\u001b[38;5;241m=\u001b[39mfollow_wrapped,\n\u001b[1;32m   3280\u001b[0m                                    \u001b[38;5;28mglobals\u001b[39m\u001b[38;5;241m=\u001b[39m\u001b[38;5;28mglobals\u001b[39m, \u001b[38;5;28mlocals\u001b[39m\u001b[38;5;241m=\u001b[39m\u001b[38;5;28mlocals\u001b[39m, eval_str\u001b[38;5;241m=\u001b[39meval_str)\n",
      "File \u001b[0;32m~/anaconda3/lib/python3.11/inspect.py:3027\u001b[0m, in \u001b[0;36mSignature.from_callable\u001b[0;34m(cls, obj, follow_wrapped, globals, locals, eval_str)\u001b[0m\n\u001b[1;32m   3023\u001b[0m \u001b[38;5;129m@classmethod\u001b[39m\n\u001b[1;32m   3024\u001b[0m \u001b[38;5;28;01mdef\u001b[39;00m \u001b[38;5;21mfrom_callable\u001b[39m(\u001b[38;5;28mcls\u001b[39m, obj, \u001b[38;5;241m*\u001b[39m,\n\u001b[1;32m   3025\u001b[0m                   follow_wrapped\u001b[38;5;241m=\u001b[39m\u001b[38;5;28;01mTrue\u001b[39;00m, \u001b[38;5;28mglobals\u001b[39m\u001b[38;5;241m=\u001b[39m\u001b[38;5;28;01mNone\u001b[39;00m, \u001b[38;5;28mlocals\u001b[39m\u001b[38;5;241m=\u001b[39m\u001b[38;5;28;01mNone\u001b[39;00m, eval_str\u001b[38;5;241m=\u001b[39m\u001b[38;5;28;01mFalse\u001b[39;00m):\n\u001b[1;32m   3026\u001b[0m \u001b[38;5;250m    \u001b[39m\u001b[38;5;124;03m\"\"\"Constructs Signature for the given callable object.\"\"\"\u001b[39;00m\n\u001b[0;32m-> 3027\u001b[0m     \u001b[38;5;28;01mreturn\u001b[39;00m _signature_from_callable(obj, sigcls\u001b[38;5;241m=\u001b[39m\u001b[38;5;28mcls\u001b[39m,\n\u001b[1;32m   3028\u001b[0m                                     follow_wrapper_chains\u001b[38;5;241m=\u001b[39mfollow_wrapped,\n\u001b[1;32m   3029\u001b[0m                                     \u001b[38;5;28mglobals\u001b[39m\u001b[38;5;241m=\u001b[39m\u001b[38;5;28mglobals\u001b[39m, \u001b[38;5;28mlocals\u001b[39m\u001b[38;5;241m=\u001b[39m\u001b[38;5;28mlocals\u001b[39m, eval_str\u001b[38;5;241m=\u001b[39meval_str)\n",
      "File \u001b[0;32m~/anaconda3/lib/python3.11/inspect.py:2447\u001b[0m, in \u001b[0;36m_signature_from_callable\u001b[0;34m(obj, follow_wrapper_chains, skip_bound_arg, globals, locals, eval_str, sigcls)\u001b[0m\n\u001b[1;32m   2438\u001b[0m _get_signature_of \u001b[38;5;241m=\u001b[39m functools\u001b[38;5;241m.\u001b[39mpartial(_signature_from_callable,\n\u001b[1;32m   2439\u001b[0m                             follow_wrapper_chains\u001b[38;5;241m=\u001b[39mfollow_wrapper_chains,\n\u001b[1;32m   2440\u001b[0m                             skip_bound_arg\u001b[38;5;241m=\u001b[39mskip_bound_arg,\n\u001b[0;32m   (...)\u001b[0m\n\u001b[1;32m   2443\u001b[0m                             sigcls\u001b[38;5;241m=\u001b[39msigcls,\n\u001b[1;32m   2444\u001b[0m                             eval_str\u001b[38;5;241m=\u001b[39meval_str)\n\u001b[1;32m   2446\u001b[0m \u001b[38;5;28;01mif\u001b[39;00m \u001b[38;5;129;01mnot\u001b[39;00m \u001b[38;5;28mcallable\u001b[39m(obj):\n\u001b[0;32m-> 2447\u001b[0m     \u001b[38;5;28;01mraise\u001b[39;00m \u001b[38;5;167;01mTypeError\u001b[39;00m(\u001b[38;5;124m'\u001b[39m\u001b[38;5;132;01m{!r}\u001b[39;00m\u001b[38;5;124m is not a callable object\u001b[39m\u001b[38;5;124m'\u001b[39m\u001b[38;5;241m.\u001b[39mformat(obj))\n\u001b[1;32m   2449\u001b[0m \u001b[38;5;28;01mif\u001b[39;00m \u001b[38;5;28misinstance\u001b[39m(obj, types\u001b[38;5;241m.\u001b[39mMethodType):\n\u001b[1;32m   2450\u001b[0m     \u001b[38;5;66;03m# In this case we skip the first parameter of the underlying\u001b[39;00m\n\u001b[1;32m   2451\u001b[0m     \u001b[38;5;66;03m# function (usually `self` or `cls`).\u001b[39;00m\n\u001b[1;32m   2452\u001b[0m     sig \u001b[38;5;241m=\u001b[39m _get_signature_of(obj\u001b[38;5;241m.\u001b[39m\u001b[38;5;18m__func__\u001b[39m)\n",
      "\u001b[0;31mTypeError\u001b[0m: {'one': {'name': 'Ali'}} is not a callable object"
     ]
    }
   ],
   "source": [
    "app.add_api_route('https://api', mydata)"
   ]
  },
  {
   "cell_type": "code",
   "execution_count": null,
   "id": "ae49fadd-718c-4e3f-a0e0-f709f77351fc",
   "metadata": {},
   "outputs": [],
   "source": []
  },
  {
   "cell_type": "code",
   "execution_count": null,
   "id": "4356cb69-0771-417c-bad9-34375590b857",
   "metadata": {},
   "outputs": [],
   "source": []
  },
  {
   "cell_type": "code",
   "execution_count": 82,
   "id": "de023f3e-0a5d-4b12-a07d-7fb3dc7be05a",
   "metadata": {},
   "outputs": [],
   "source": [
    "@app.get(\"/my-first-api\")\n",
    "def hello():\n",
    "  return {\"Hello world!\"}"
   ]
  },
  {
   "cell_type": "code",
   "execution_count": 86,
   "id": "8a4a11b9-9f9e-4b75-ba3a-80b8037c4757",
   "metadata": {},
   "outputs": [
    {
     "data": {
      "text/plain": [
       "<Response [404]>"
      ]
     },
     "execution_count": 86,
     "metadata": {},
     "output_type": "execute_result"
    }
   ],
   "source": [
    "requests.post('http://127.0.0.1:8000/my-first-api')"
   ]
  },
  {
   "cell_type": "code",
   "execution_count": 87,
   "id": "fcddaca2-f6fa-45cd-8162-75a2bec4b65c",
   "metadata": {},
   "outputs": [],
   "source": [
    "@app.route('/events', methods=['GET', 'POST'])\n",
    "def data():\n",
    "    mydata = {\n",
    "        'name':'Ali'\n",
    "    }"
   ]
  },
  {
   "cell_type": "code",
   "execution_count": null,
   "id": "e263efb8-8721-4889-8fe2-8b7d729ef9ff",
   "metadata": {},
   "outputs": [],
   "source": []
  },
  {
   "cell_type": "code",
   "execution_count": 74,
   "id": "4dbaf4a8-1623-4157-b6e2-88c693e86931",
   "metadata": {},
   "outputs": [],
   "source": [
    "client = pymongo.MongoClient()\n",
    "database_name = \"web_project\"\n",
    "db = client[database_name]\n",
    "collection_name = \"signup_data\"\n",
    "collection = db[collection_name]\n",
    "cursor = collection.find()"
   ]
  },
  {
   "cell_type": "code",
   "execution_count": 25,
   "id": "97d5fb60-0868-4a14-9383-72b2a835bc85",
   "metadata": {
    "scrolled": true
   },
   "outputs": [],
   "source": [
    "with smtplib.SMTP('smtp.gmail.com', 587) as smtp:\n",
    "    smtp.ehlo()\n",
    "    smtp.starttls()\n",
    "    smtp.ehlo()\n",
    "    smtp.login('interns.hub510@gmail.com', 'frer bnho uocd pztb')\n",
    "    subject = 'Verification'\n",
    "    body = 'Code is: 123456'\n",
    "    msg = f'Subject: {subject}\\n\\n{body}'\n",
    "    smtp.sendmail('interns.hub510@gmail.com', 'm.alijaan420@gmail.com', msg)"
   ]
  },
  {
   "cell_type": "code",
   "execution_count": null,
   "id": "726dc7ae-bb84-47f8-a324-7b2426764137",
   "metadata": {},
   "outputs": [],
   "source": []
  }
 ],
 "metadata": {
  "kernelspec": {
   "display_name": "Python 3 (ipykernel)",
   "language": "python",
   "name": "python3"
  },
  "language_info": {
   "codemirror_mode": {
    "name": "ipython",
    "version": 3
   },
   "file_extension": ".py",
   "mimetype": "text/x-python",
   "name": "python",
   "nbconvert_exporter": "python",
   "pygments_lexer": "ipython3",
   "version": "3.11.3"
  }
 },
 "nbformat": 4,
 "nbformat_minor": 5
}
